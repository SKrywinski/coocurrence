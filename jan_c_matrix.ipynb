{
 "cells": [
  {
   "cell_type": "markdown",
   "metadata": {},
   "source": [
    "# Test"
   ]
  },
  {
   "cell_type": "markdown",
   "metadata": {},
   "source": [
    "### packages"
   ]
  },
  {
   "cell_type": "code",
   "execution_count": 2,
   "metadata": {},
   "outputs": [],
   "source": [
    "from nltk.tokenize import sent_tokenize, word_tokenize\n",
    "import os\n",
    "from stop_words import get_stop_words\n",
    "from collections import Counter \n",
    "import time\n",
    "import pandas as pd"
   ]
  },
  {
   "cell_type": "markdown",
   "metadata": {},
   "source": [
    "### Variablen und Wortlisten"
   ]
  },
  {
   "cell_type": "code",
   "execution_count": 3,
   "metadata": {},
   "outputs": [],
   "source": [
    "wiki_pfad = r\"D:\\informatik_programme\\word_embedding\\wikipedia_kookurrenz\\text\"\n",
    "counter = 0\n",
    "\n",
    "stopp_wörter = get_stop_words('de') #type = Liste\n",
    "satzzeichen = [\".\", \",\", \"!\", \";\", \"?\", \"(\", \")\", r\"'\", \n",
    "               r\"`\", \":\", r\"„\", r\"''\", \"%\", r\"“\", \"-\", \n",
    "               \"_\", r\"``\", \"–\", \">\", \"<\", \"†\", \"/\"]\n",
    "weitere_stopp_wörter = [\"doc\", \"ab\", \"id=\", \"url=\", \"https\", \"title=\",\n",
    "                        \"/doc\", \"*\", \"seit\", \"sowie\"]\n",
    "\n",
    "counter_wörterbuch = dict()\n",
    "wort_von_wiki_counter = 0\n",
    "start_time = time.time()"
   ]
  },
  {
   "cell_type": "markdown",
   "metadata": {},
   "source": [
    "### Dictionary der häufigsten Wörter von Wikipedia"
   ]
  },
  {
   "cell_type": "code",
   "execution_count": 4,
   "metadata": {},
   "outputs": [
    {
     "name": "stdout",
     "output_type": "stream",
     "text": [
      "Anzahl der Wörter: 5235163\n"
     ]
    }
   ],
   "source": [
    "for root, dirs, files in os.walk(wiki_pfad, topdown=True):\n",
    "    for datei in files:\n",
    "        zeit = time.time() - start_time\n",
    "        if zeit > 60:\n",
    "            break\n",
    "        d = str(os.path.join(root, datei))\n",
    "        with open(d, \"r\", encoding=\"utf-8\") as artikel:\n",
    "            text = artikel.read().lower()\n",
    "            sätze = sent_tokenize(text)\n",
    "            \n",
    "            for satz in sätze:\n",
    "                sätze_wörter = word_tokenize(satz)\n",
    "                \n",
    "                for wort in sätze_wörter:\n",
    "                    if wort in stopp_wörter:\n",
    "                        wort_von_wiki_counter += 1 \n",
    "                        pass\n",
    "                    elif wort in weitere_stopp_wörter:\n",
    "                        wort_von_wiki_counter += 1 \n",
    "                        pass\n",
    "                    elif wort in satzzeichen:\n",
    "                        pass\n",
    "                    else:\n",
    "                        wort_von_wiki_counter += 1\n",
    "                        if wort not in counter_wörterbuch:\n",
    "                            counter_wörterbuch[wort] = 1\n",
    "                        else:\n",
    "                            counter_wörterbuch[wort] += 1\n",
    "            \n",
    "            counter += 1\n",
    "            \n",
    "print(\"Anzahl der Wörter: \" + str(wort_von_wiki_counter))"
   ]
  },
  {
   "cell_type": "markdown",
   "metadata": {},
   "source": [
    "### Die n-häufigsten Wörter von Wikipedia"
   ]
  },
  {
   "cell_type": "code",
   "execution_count": 7,
   "metadata": {
    "scrolled": true
   },
   "outputs": [
    {
     "name": "stdout",
     "output_type": "stream",
     "text": [
      "[('wurde', 25991), ('wurden', 10490), ('etwa', 7295), ('jedoch', 6385), ('jahr', 5896), ('stadt', 5294), ('jahre', 5292), ('zwei', 5153), ('mehr', 5153), ('zeit', 5035)]\n",
      "{'wurde': 25991, 'wurden': 10490, 'etwa': 7295, 'jedoch': 6385, 'jahr': 5896, 'stadt': 5294, 'jahre': 5292, 'zwei': 5153, 'mehr': 5153, 'zeit': 5035}\n"
     ]
    }
   ],
   "source": [
    "sorted(counter_wörterbuch.values())\n",
    "häufigsten_wörter = Counter(counter_wörterbuch).most_common(10)\n",
    "häufigsten_wörter_wörterbuch = {}\n",
    "for tupel in häufigsten_wörter:\n",
    "    wort = tupel[0]\n",
    "    häufigkeit = tupel[1]\n",
    "    häufigsten_wörter_wörterbuch[wort] = häufigkeit\n",
    "print(häufigsten_wörter)\n",
    "print(häufigsten_wörter_wörterbuch)"
   ]
  },
  {
   "cell_type": "markdown",
   "metadata": {},
   "source": [
    "### Erstellung der Matrix"
   ]
  },
  {
   "cell_type": "code",
   "execution_count": 37,
   "metadata": {},
   "outputs": [
    {
     "name": "stdout",
     "output_type": "stream",
     "text": [
      "        wurde  wurden  etwa  jedoch  jahr  stadt  jahre  zwei  mehr  zeit\n",
      "wurde       0       0     0       0     0      0      0     0     0     0\n",
      "wurden      0       0     0       0     0      0      0     0     0     0\n",
      "etwa        0       0     0       0     0      0      0     0     0     0\n",
      "jedoch      0       0     0       0     0      0      0     0     0     0\n",
      "jahr        0       0     0       0     0      0      0     0     0     0\n",
      "stadt       0       0     0       0     0      0      0     0     0     0\n",
      "jahre       0       0     0       0     0      0      0     0     0     0\n",
      "zwei        0       0     0       0     0      0      0     0     0     0\n",
      "mehr        0       0     0       0     0      0      0     0     0     0\n",
      "zeit        0       0     0       0     0      0      0     0     0     0\n"
     ]
    }
   ],
   "source": [
    "matrix = pd.DataFrame(0, index=häufigsten_wörter_wörterbuch, columns=häufigsten_wörter_wörterbuch)\n",
    "print(matrix)\n",
    "matrix.to_csv(\"matrix.csv\")"
   ]
  },
  {
   "cell_type": "markdown",
   "metadata": {},
   "source": [
    "# [TO-DO] Daten füllen"
   ]
  }
 ],
 "metadata": {
  "kernelspec": {
   "display_name": "Python 3",
   "language": "python",
   "name": "python3"
  },
  "language_info": {
   "codemirror_mode": {
    "name": "ipython",
    "version": 3
   },
   "file_extension": ".py",
   "mimetype": "text/x-python",
   "name": "python",
   "nbconvert_exporter": "python",
   "pygments_lexer": "ipython3",
   "version": "3.7.0"
  }
 },
 "nbformat": 4,
 "nbformat_minor": 2
}
