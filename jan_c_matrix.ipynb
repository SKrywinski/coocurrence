{
 "cells": [
  {
   "cell_type": "markdown",
   "metadata": {},
   "source": [
    "# Test"
   ]
  },
  {
   "cell_type": "markdown",
   "metadata": {},
   "source": [
    "### packages"
   ]
  },
  {
   "cell_type": "code",
   "execution_count": 7,
   "metadata": {},
   "outputs": [],
   "source": [
    "from nltk.tokenize import sent_tokenize, word_tokenize\n",
    "import os\n",
    "from stop_words import get_stop_words\n",
    "from collections import Counter \n",
    "import timeit\n",
    "import pandas as pd"
   ]
  },
  {
   "cell_type": "markdown",
   "metadata": {},
   "source": [
    "### Wortlisten, Counter und einen Pfad"
   ]
  },
  {
   "cell_type": "code",
   "execution_count": 2,
   "metadata": {},
   "outputs": [],
   "source": [
    "wiki_pfad = r\"D:\\informatik_programme\\word_embedding\\wikipedia_kookurrenz\\text\"\n",
    "counter = 0\n",
    "\n",
    "satzzeichen = [\".\", \",\", \"!\", \";\", \"?\", \"(\", \")\", r\"'\", \n",
    "               r\"`\", \":\", r\"„\", r\"''\", \"%\", r\"“\", \"-\", \n",
    "               \"_\", r\"``\", \"–\", \">\", \"<\", \"†\", \"/\",\n",
    "               \"doc\", \"ab\", \"id=\", \"url=\", \"https\", \"title=\",\n",
    "               \"/doc\", \"*\", \"seit\", \"sowie\"]\n",
    "stopp_wörter = get_stop_words('de') #type = Liste\n",
    "top_100 = [('wurde', 1281), ('doc', 518), ('id=', 518), ('url=', 518), ('https', 518), \n",
    "           ('//de.wikipedia.org/wiki', 518), ('title=', 518), ('/doc', 518), ('jahr', 268), \n",
    "           ('wurden', 252), ('ab', 248), ('*', 223), ('seit', 216), ('sowie', 213), ('mitglied', 186), \n",
    "           ('jahren', 162), ('ersten', 161), ('zwei', 156), ('oktober', 146), ('jahre', 144), \n",
    "           ('kam', 133), ('†', 131), ('saison', 130), ('teil', 129), ('2009', 126), ('juni', 122), \n",
    "           ('stadt', 118), ('zweiten', 117), ('später', 117), ('drei', 114), ('1.', 112), ('zeit', 112), \n",
    "           ('mai', 111), ('ende', 107), ('dezember', 106), ('gehörte', 105), ('jedoch', 104), ('november', 102), \n",
    "           ('erste', 102), ('juli', 101), ('september', 100), ('erhielt', 100), ('deutschen', 99), ('april', 99), \n",
    "           ('januar', 98), ('märz', 96), ('august', 95), ('liegt', 94), ('müller', 94), ('altenburg', 92), \n",
    "           ('de', 91), ('the', 91), ('beim', 90), ('bereits', 89), ('nahm', 89), ('heute', 86), ('etwa', 84), \n",
    "           ('mehr', 83), ('universität', 82), ('of', 81), ('deutscher', 79), ('ort', 79), ('konnte', 79), \n",
    "           ('tätig', 77), ('neben', 76), ('vier', 76), ('folgender', 76), ('februar', 74), ('trat', 72), \n",
    "           ('spielte', 72), ('zudem', 71), ('weitere', 71), ('2.', 70), ('personen', 70), ('politiker', 70), \n",
    "           ('bekannt', 69), ('kirche', 69), ('namen', 68), ('gewann', 68), ('bzw', 68), ('zunächst', 67), \n",
    "           ('zurück', 67), ('nachdem', 67), ('begann', 67), ('new', 67), ('band', 67), ('herzogtum', 67), \n",
    "           ('gab', 66), ('1945', 64), ('2008', 64), ('name', 64), ('landkreis', 64), ('denen', 63), \n",
    "           ('zusammen', 63), ('außerdem', 63), ('stand', 62), ('neu', 62), ('beiden', 62), ('platz', 61), \n",
    "           ('johann', 61)]"
   ]
  },
  {
   "cell_type": "markdown",
   "metadata": {},
   "source": [
    "### Counter-Liste der häufigsten Wörter von Wikipedia"
   ]
  },
  {
   "cell_type": "code",
   "execution_count": 4,
   "metadata": {},
   "outputs": [
    {
     "name": "stdout",
     "output_type": "stream",
     "text": [
      "0.38045521099957114\n",
      "0.7537242469998091\n",
      "1.166655811000055\n",
      "1.6245625579995249\n",
      "2.015691237998908\n",
      "2.395550363999064\n",
      "2.8054766349987403\n",
      "3.1851490409981125\n",
      "3.6748018389980643\n",
      "4.068307356998048\n",
      "4.434334160998333\n",
      "4.813088753998272\n",
      "5.214018092998231\n",
      "5.593958538998777\n",
      "6.080584726998495\n",
      "6.467502522998075\n",
      "6.855967770998177\n",
      "7.249483553998289\n",
      "7.6369279569989885\n",
      "8.10465865399965\n",
      "8.510687478999898\n",
      "8.884727476999615\n",
      "9.287668897999538\n",
      "9.673626247998982\n",
      "10.073938579999776\n",
      "[('wurde', 804), ('köln', 325), ('wurden', 232), ('marx', 215), ('dean', 198), ('ki', 184), ('stadt', 181), ('dönitz', 166), ('adenauer', 165), ('ersten', 161), ('kölner', 141), ('zeit', 140), ('jedoch', 139), ('deutschen', 136), ('kunst', 130)]\n"
     ]
    }
   ],
   "source": [
    "counter_liste = Counter()\n",
    "zeit = 0\n",
    "\n",
    "for root, dirs, files in os.walk(wiki_pfad, topdown=True):\n",
    "    #if counter >= 3000:\n",
    "    #    break\n",
    "    for datei in files:\n",
    "        if counter >= 30:\n",
    "            break\n",
    "        d = str(os.path.join(root, datei))\n",
    "        c_counter_liste = Counter()\n",
    "        with open(d, \"r\", encoding=\"utf-8\") as artikel:\n",
    "            text = artikel.read().lower()\n",
    "            #liste = sent_tokenize(text)\n",
    "            wörter = word_tokenize(text)\n",
    "            reduzierte_wörter = []\n",
    "            for wort in wörter:\n",
    "                if wort in stopp_wörter:\n",
    "                    pass\n",
    "                elif wort in satzzeichen:\n",
    "                    pass\n",
    "                else:\n",
    "                    reduzierte_wörter.append(wort)\n",
    "            if counter == 0:\n",
    "                counter_liste = Counter(reduzierte_wörter).most_common(15)\n",
    "                #ACHTUNG: most_common gibt eine Liste, keinen Counter zurück\n",
    "            else:\n",
    "                temp_counter = Counter(reduzierte_wörter)\n",
    "                counter_liste2 = Counter(counter_liste) + temp_counter\n",
    "                counter_liste = counter_liste2.most_common(15)\n",
    "            \n",
    "        counter += 1\n",
    "        zeit = zeit + timeit.timeit('\"-\".join(str(n) for n in range(100))', number=10000)\n",
    "        print(zeit)\n",
    "print(counter_liste)"
   ]
  },
  {
   "cell_type": "code",
   "execution_count": 5,
   "metadata": {},
   "outputs": [
    {
     "name": "stdout",
     "output_type": "stream",
     "text": [
      "['wurde', 'köln', 'wurden', 'marx', 'dean', 'ki', 'stadt', 'dönitz', 'adenauer', 'ersten', 'kölner', 'zeit', 'jedoch', 'deutschen', 'kunst']\n"
     ]
    }
   ],
   "source": [
    "test_liste = []\n",
    "for element in counter_liste:\n",
    "    test_liste.append(element[0])\n",
    "print(test_liste)"
   ]
  },
  {
   "cell_type": "code",
   "execution_count": 12,
   "metadata": {},
   "outputs": [
    {
     "name": "stdout",
     "output_type": "stream",
     "text": [
      "           wurde  köln  wurden  marx  dean  ki  stadt  dönitz  adenauer  \\\n",
      "wurde          0     0       0     0     0   0      0       0         0   \n",
      "köln           0     0       0     0     0   0      0       0         0   \n",
      "wurden         0     0       0     0     0   0      0       0         0   \n",
      "marx           0     0       0     0     0   0      0       0         0   \n",
      "dean           0     0       0     0     0   0      0       0         0   \n",
      "ki             0     0       0     0     0   0      0       0         0   \n",
      "stadt          0     0       0     0     0   0      0       0         0   \n",
      "dönitz         0     0       0     0     0   0      0       0         0   \n",
      "adenauer       0     0       0     0     0   0      0       0         0   \n",
      "ersten         0     0       0     0     0   0      0       0         0   \n",
      "kölner         0     0       0     0     0   0      0       0         0   \n",
      "zeit           0     0       0     0     0   0      0       0         0   \n",
      "jedoch         0     0       0     0     0   0      0       0         0   \n",
      "deutschen      0     0       0     0     0   0      0       0         0   \n",
      "kunst          0     0       0     0     0   0      0       0         0   \n",
      "\n",
      "           ersten  kölner  zeit  jedoch  deutschen  kunst  \n",
      "wurde           0       0     0       0          0      0  \n",
      "köln            0       0     0       0          0      0  \n",
      "wurden          0       0     0       0          0      0  \n",
      "marx            0       0     0       0          0      0  \n",
      "dean            0       0     0       0          0      0  \n",
      "ki              0       0     0       0          0      0  \n",
      "stadt           0       0     0       0          0      0  \n",
      "dönitz          0       0     0       0          0      0  \n",
      "adenauer        0       0     0       0          0      0  \n",
      "ersten          0       0     0       0          0      0  \n",
      "kölner          0       0     0       0          0      0  \n",
      "zeit            0       0     0       0          0      0  \n",
      "jedoch          0       0     0       0          0      0  \n",
      "deutschen       0       0     0       0          0      0  \n",
      "kunst           0       0     0       0          0      0  \n"
     ]
    }
   ],
   "source": [
    "matrix = pd.DataFrame(0, index=test_liste, columns=test_liste)\n",
    "print(matrix)"
   ]
  },
  {
   "cell_type": "markdown",
   "metadata": {},
   "source": [
    "# [TO-DO] Daten füllen"
   ]
  }
 ],
 "metadata": {
  "kernelspec": {
   "display_name": "Python 3",
   "language": "python",
   "name": "python3"
  },
  "language_info": {
   "codemirror_mode": {
    "name": "ipython",
    "version": 3
   },
   "file_extension": ".py",
   "mimetype": "text/x-python",
   "name": "python",
   "nbconvert_exporter": "python",
   "pygments_lexer": "ipython3",
   "version": "3.7.0"
  }
 },
 "nbformat": 4,
 "nbformat_minor": 2
}
